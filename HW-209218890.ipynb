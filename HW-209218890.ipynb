ba966a6
209118890 

{
 "cells": [
  {
   "cell_type": "code",
   "execution_count": 1,
   "id": "ecb4edc3",
   "metadata": {},
   "outputs": [
    {
     "name": "stdout",
     "output_type": "stream",
     "text": [
      "Error: parameters should be float\n",
      "32.0\n"
     ]
    }
   ],
   "source": [
    "def my_func(x1,x2,x3):\n",
    "    try:\n",
    "        if type(x1) is int or type(x2) is int or type(x3) is int: \n",
    "            print(\"Error: parameters should be float\")\n",
    "        x1=float(x1)\n",
    "        x2=float(x2)\n",
    "        x3=float(x3)\n",
    "        print(((x1+x2+x3)*(x2+x3)*x3)/(x1+x2+x3))\n",
    "    except ZeroDivisionError:\n",
    "        print(\"Not a number – denominator equals zero\")\n",
    "    except:\n",
    "        if type(x1) is str or type(x2) is str or type(x3) is str: \n",
    "            print(\"None\")\n",
    "        \n",
    "    #return float(EQ)\n",
    "my_func(0.0, 4, 4.0)"
   ]
  },
  {
   "cell_type": "code",
   "execution_count": 4,
   "id": "0d9c327c",
   "metadata": {},
   "outputs": [
    {
     "name": "stdout",
     "output_type": "stream",
     "text": [
      "count= 6\n"
     ]
    }
   ],
   "source": [
    "def revword(word:str):\n",
    "    word=word[::-1].lower()\n",
    "    return word\n",
    "\n",
    "def countword():\n",
    "    text=open('text.txt','r')\n",
    "    count=1\n",
    "    lst=list()\n",
    "    for line in text:\n",
    "        listlines = line.rstrip()\n",
    "        listlines=listlines.split()\n",
    "        if len(lst)==0:\n",
    "            word=listlines[0]\n",
    "            lst.append(listlines)\n",
    "        elif len(lst)>0: \n",
    "            for i in listlines:\n",
    "                new=revword(i)\n",
    "                if new==word:\n",
    "                    count+=1\n",
    "\n",
    "    print('count=',count)\n",
    "\n",
    "countword()"
   ]
  }
 ],
 "metadata": {
  "kernelspec": {
   "display_name": "Python 3 (ipykernel)",
   "language": "python",
   "name": "python3"
  },
  "language_info": {
   "codemirror_mode": {
    "name": "ipython",
    "version": 3
   },
   "file_extension": ".py",
   "mimetype": "text/x-python",
   "name": "python",
   "nbconvert_exporter": "python",
   "pygments_lexer": "ipython3",
   "version": "3.9.6"
  }
 },
 "nbformat": 4,
 "nbformat_minor": 5
}
